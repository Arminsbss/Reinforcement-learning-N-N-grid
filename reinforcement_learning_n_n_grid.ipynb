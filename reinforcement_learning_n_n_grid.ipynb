{
  "nbformat": 4,
  "nbformat_minor": 0,
  "metadata": {
    "colab": {
      "provenance": [],
      "authorship_tag": "ABX9TyOrs9W9q7be8k6mjdflwNk2",
      "include_colab_link": true
    },
    "kernelspec": {
      "name": "python3",
      "display_name": "Python 3"
    },
    "language_info": {
      "name": "python"
    }
  },
  "cells": [
    {
      "cell_type": "markdown",
      "metadata": {
        "id": "view-in-github",
        "colab_type": "text"
      },
      "source": [
        "<a href=\"https://colab.research.google.com/github/Arminsbss/Reinforcement-learning-N-N-grid/blob/main/reinforcement_learning_n_n_grid.ipynb\" target=\"_parent\"><img src=\"https://colab.research.google.com/assets/colab-badge.svg\" alt=\"Open In Colab\"/></a>"
      ]
    },
    {
      "cell_type": "code",
      "execution_count": null,
      "metadata": {
        "id": "66Hlp9MwScFc"
      },
      "outputs": [],
      "source": [
        "import pandas as pd\n",
        "\n",
        "Grid = pd.read_excel('Grid.xlsx',header=None)\n",
        "Grid = Grid.values"
      ]
    },
    {
      "cell_type": "code",
      "source": [
        "Start_State_indexes=[29,0]\n",
        "End_State_indexes=[0,29]\n",
        "Grid[Start_State_indexes[0]][Start_State_indexes[1]]\n",
        "\n",
        "def Right_Action(get_cell,row,column):\n",
        "  return get_cell[row,column+1]\n",
        "\n",
        "def Up_Action(get_cell,row,column):\n",
        "  return get_cell[row-1,column]\n",
        "\n",
        "Place=Grid[Start_State_indexes[0]][Start_State_indexes[1]]\n",
        "Place=Right_Action(Grid,Start_State_indexes[0],Start_State_indexes[1])\n",
        "print(Place)"
      ],
      "metadata": {
        "colab": {
          "base_uri": "https://localhost:8080/"
        },
        "id": "TVoW7n-S6jzL",
        "outputId": "6ee13250-91c1-41ee-e07e-83eb984b28d9"
      },
      "execution_count": null,
      "outputs": [
        {
          "output_type": "stream",
          "name": "stdout",
          "text": [
            "8\n"
          ]
        }
      ]
    }
  ]
}