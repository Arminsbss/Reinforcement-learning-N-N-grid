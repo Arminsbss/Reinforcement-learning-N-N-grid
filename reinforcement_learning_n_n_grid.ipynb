{
  "nbformat": 4,
  "nbformat_minor": 0,
  "metadata": {
    "colab": {
      "provenance": [],
      "authorship_tag": "ABX9TyOcxX76ez5HO5DXefmQwqDQ",
      "include_colab_link": true
    },
    "kernelspec": {
      "name": "python3",
      "display_name": "Python 3"
    },
    "language_info": {
      "name": "python"
    }
  },
  "cells": [
    {
      "cell_type": "markdown",
      "metadata": {
        "id": "view-in-github",
        "colab_type": "text"
      },
      "source": [
        "<a href=\"https://colab.research.google.com/github/Arminsbss/Reinforcement-learning-N-N-grid/blob/main/reinforcement_learning_n_n_grid.ipynb\" target=\"_parent\"><img src=\"https://colab.research.google.com/assets/colab-badge.svg\" alt=\"Open In Colab\"/></a>"
      ]
    },
    {
      "cell_type": "code",
      "execution_count": null,
      "metadata": {
        "id": "66Hlp9MwScFc"
      },
      "outputs": [],
      "source": [
        "import pandas as pd\n",
        "\n",
        "Grid = pd.read_excel('Grid.xlsx',header=None)\n",
        "Grid = Grid.values"
      ]
    },
    {
      "cell_type": "markdown",
      "source": [
        "**States**"
      ],
      "metadata": {
        "id": "octGd1bQKlTT"
      }
    },
    {
      "cell_type": "code",
      "source": [
        "Start_State_indexes=[29,0]\n",
        "End_State_indexes=[0,29]\n",
        "Grid[Start_State_indexes[0]][Start_State_indexes[1]]"
      ],
      "metadata": {
        "colab": {
          "base_uri": "https://localhost:8080/"
        },
        "id": "nDEHxXhfKuSS",
        "outputId": "63188679-43fd-47fb-b92c-2716f7db8d56"
      },
      "execution_count": null,
      "outputs": [
        {
          "output_type": "execute_result",
          "data": {
            "text/plain": [
              "-10"
            ]
          },
          "metadata": {},
          "execution_count": 11
        }
      ]
    },
    {
      "cell_type": "markdown",
      "source": [
        "**Actions**"
      ],
      "metadata": {
        "id": "8RMcUb4dKwTT"
      }
    },
    {
      "cell_type": "code",
      "source": [
        "# The function below returns True if the indices are within the range of the array, and False otherwise.\n",
        "def is_valid_cell(get_cell,row,column):\n",
        "    num_rows = len(get_cell)\n",
        "    num_columns = len(get_cell[0]) if num_rows > 0 else 0\n",
        "    return 0 <= row < num_rows and 0 <= column < num_columns\n",
        "\n",
        "def Right_Action(get_cell,row,column):\n",
        "  if is_valid_cell(get_cell,row,column):\n",
        "    return get_cell[row,column+1]\n",
        "  else:\n",
        "    return \"NA\"\n",
        "\n",
        "def Up_Action(get_cell,row,column):\n",
        "  if is_valid_cell(get_cell,row,column):\n",
        "    return get_cell[row-1,column]\n",
        "  else:\n",
        "    return \"NA\""
      ],
      "metadata": {
        "id": "ZzuEiilPKzIq"
      },
      "execution_count": null,
      "outputs": []
    },
    {
      "cell_type": "code",
      "source": [
        "State=Grid[Start_State_indexes[0]][Start_State_indexes[1]]\n",
        "State=Up_Action(Grid,Start_State_indexes[0],Start_State_indexes[1])\n",
        "print(State)"
      ],
      "metadata": {
        "colab": {
          "base_uri": "https://localhost:8080/"
        },
        "id": "TVoW7n-S6jzL",
        "outputId": "fc6ec08f-c1a2-4332-dd8f-bbbf599c5113"
      },
      "execution_count": null,
      "outputs": [
        {
          "output_type": "stream",
          "name": "stdout",
          "text": [
            "5\n"
          ]
        }
      ]
    },
    {
      "cell_type": "code",
      "source": [
        "if is_valid_cell(Grid,Start_State_indexes[0],Start_State_indexes[1]):\n",
        "  print(\"T\")\n",
        "else:\n",
        "  print(\"F\")"
      ],
      "metadata": {
        "colab": {
          "base_uri": "https://localhost:8080/"
        },
        "id": "v3laFlhcIYic",
        "outputId": "64688e53-c442-4fb9-c326-b60d0b9cd5f9"
      },
      "execution_count": null,
      "outputs": [
        {
          "output_type": "stream",
          "name": "stdout",
          "text": [
            "T\n"
          ]
        }
      ]
    },
    {
      "cell_type": "markdown",
      "source": [
        "**Q-Values**\n",
        "\n",
        "Q(s, a) = (1 − α) Q(s, a) + α(R(s) + γ (max[Q(s′, a′)]))"
      ],
      "metadata": {
        "id": "BtPh-nI9LBd7"
      }
    }
  ]
}