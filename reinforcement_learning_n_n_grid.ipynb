{
  "nbformat": 4,
  "nbformat_minor": 0,
  "metadata": {
    "colab": {
      "provenance": [],
      "authorship_tag": "ABX9TyMLS8qckMgfdTKoM9VresLT",
      "include_colab_link": true
    },
    "kernelspec": {
      "name": "python3",
      "display_name": "Python 3"
    },
    "language_info": {
      "name": "python"
    }
  },
  "cells": [
    {
      "cell_type": "markdown",
      "metadata": {
        "id": "view-in-github",
        "colab_type": "text"
      },
      "source": [
        "<a href=\"https://colab.research.google.com/github/Arminsbss/Reinforcement-learning-N-N-grid/blob/main/reinforcement_learning_n_n_grid.ipynb\" target=\"_parent\"><img src=\"https://colab.research.google.com/assets/colab-badge.svg\" alt=\"Open In Colab\"/></a>"
      ]
    },
    {
      "cell_type": "code",
      "execution_count": null,
      "metadata": {
        "id": "66Hlp9MwScFc"
      },
      "outputs": [],
      "source": [
        "import pandas as pd\n",
        "\n",
        "# Load spreadsheet\n",
        "Grid = pd.read_excel('Grid.xlsx',header=None)\n",
        "Grid = Grid.values\n"
      ]
    },
    {
      "cell_type": "code",
      "source": [
        "Grid[0]\n"
      ],
      "metadata": {
        "colab": {
          "base_uri": "https://localhost:8080/"
        },
        "id": "TVoW7n-S6jzL",
        "outputId": "c117a984-818a-4ee2-8695-f5743ebd876a"
      },
      "execution_count": null,
      "outputs": [
        {
          "output_type": "execute_result",
          "data": {
            "text/plain": [
              "array([ -5,  -4,   6,   0,  14,  -4,  -2,   6,  14,   2,  12,   6,   3,\n",
              "        -1, -10,  -4, -10,   8,   4,  -4,  -5, -10,   2,  -3,  10,  -2,\n",
              "        -8,  -1,   7,  25])"
            ]
          },
          "metadata": {},
          "execution_count": 13
        }
      ]
    }
  ]
}